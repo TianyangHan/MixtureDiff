{
 "cells": [
  {
   "cell_type": "code",
   "execution_count": 1,
   "metadata": {},
   "outputs": [
    {
     "name": "stderr",
     "output_type": "stream",
     "text": [
      "/home/qlianab/anaconda3/envs/diff/lib/python3.10/site-packages/tqdm/auto.py:21: TqdmWarning: IProgress not found. Please update jupyter and ipywidgets. See https://ipywidgets.readthedocs.io/en/stable/user_install.html\n",
      "  from .autonotebook import tqdm as notebook_tqdm\n"
     ]
    },
    {
     "ename": "ImportError",
     "evalue": "cannot import name 'StableDiffusionCanvasControlnetPipeline' from 'mixdiff' (/import/home/qlianab/TianyangHan/trashcode/Mixure_Control_Diffusion/mixdiff/__init__.py)",
     "output_type": "error",
     "traceback": [
      "\u001b[0;31m---------------------------------------------------------------------------\u001b[0m",
      "\u001b[0;31mImportError\u001b[0m                               Traceback (most recent call last)",
      "Cell \u001b[0;32mIn[1], line 2\u001b[0m\n\u001b[1;32m      1\u001b[0m \u001b[39mfrom\u001b[39;00m \u001b[39mdiffusers\u001b[39;00m \u001b[39mimport\u001b[39;00m  ControlNetModel, EulerAncestralDiscreteScheduler\n\u001b[0;32m----> 2\u001b[0m \u001b[39mfrom\u001b[39;00m \u001b[39mmixdiff\u001b[39;00m \u001b[39mimport\u001b[39;00m StableDiffusionCanvasControlnetPipeline\n\u001b[1;32m      3\u001b[0m \u001b[39mfrom\u001b[39;00m \u001b[39mmixdiff\u001b[39;00m\u001b[39m.\u001b[39;00m\u001b[39mcanvas_multicontrolnet\u001b[39;00m \u001b[39mimport\u001b[39;00m Text2ImageRegion\n\u001b[1;32m      4\u001b[0m \u001b[39mimport\u001b[39;00m \u001b[39mtorch\u001b[39;00m\n",
      "\u001b[0;31mImportError\u001b[0m: cannot import name 'StableDiffusionCanvasControlnetPipeline' from 'mixdiff' (/import/home/qlianab/TianyangHan/trashcode/Mixure_Control_Diffusion/mixdiff/__init__.py)"
     ]
    }
   ],
   "source": [
    "from diffusers import  ControlNetModel, EulerAncestralDiscreteScheduler\n",
    "from mixdiff import StableDiffusionCanvasControlnetPipeline\n",
    "from mixdiff.canvas_multicontrolnet import Text2ImageRegion\n",
    "import torch\n",
    "from PIL import Image\n",
    "\n",
    "# Creater scheduler and model (similar to StableDiffusionPipeline)\n",
    "controlnet_canny = ControlNetModel.from_pretrained(\"lllyasviel/sd-controlnet-canny\" \n",
    "                                            ).to(\"cuda\")\n",
    "# controlnet_pose = ControlNetModel.from_pretrained(\"lllyasviel/sd-controlnet-openpose\", \n",
    "#                                                    ).to(\"cuda\")\n",
    "\n",
    "\n",
    "scheduler = EulerAncestralDiscreteScheduler.from_pretrained(\"YOUR OWN SCHEDULER PATH\",subfolder=\"scheduler\")\n",
    "pipeline = StableDiffusionCanvasControlnetPipeline.from_pretrained(\"YOUR OWN SD CKPT PATH\",\n",
    "                                                                    scheduler=scheduler, use_auth_token=True,\n",
    "                                                                    \tcontrolnet=[\n",
    "    controlnet_canny,controlnet_canny,controlnet_canny,controlnet_canny,controlnet_canny,controlnet_canny,controlnet_canny,controlnet_canny,controlnet_canny\n",
    "\t],).to(\"cuda:0\")\n",
    "\n",
    "\n",
    "\n",
    "image1 = Image.open('YOUR OWN IMAGE PATH').crop((0,0,512,640))\n",
    "image2 = Image.open('YOUR OWN IMAGE PATH').crop((256,0,768,640))\n",
    "image3 = Image.open('YOUR OWN IMAGE PATH').crop((512,0,1024,640))\n",
    "image4 = Image.open('YOUR OWN IMAGE PATH').crop((0,384,512,1024))\n",
    "image5 = Image.open('YOUR OWN IMAGE PATH').crop((256,384,768,1024))\n",
    "image6 = Image.open('YOUR OWN IMAGE PATH').crop((512,384,1024,1024))\n",
    "image7 = Image.open('YOUR OWN IMAGE PATH').crop((0,768,512,1408))\n",
    "image8 = Image.open('YOUR OWN IMAGE PATH').crop((256,768,768,1408))\n",
    "image9 = Image.open('YOUR OWN IMAGE PATH').crop((512,768,1024,1408))\n",
    "\n",
    "\n",
    "\n",
    "main_prompt=\" YOUR OWN PROMPT \"\n",
    "\n",
    "image = pipeline(\n",
    "    canvas_height=1408,\n",
    "    canvas_width=1024,\n",
    "    regions=[\n",
    "        Text2ImageRegion(0, 640, 0, 512, guidance_scale=8,      # height first then width\n",
    "            prompt= f\"\" + main_prompt),\n",
    "        Text2ImageRegion(0, 640, 256, 768, guidance_scale=8,\n",
    "            prompt=  f\"\" + main_prompt),\n",
    "        Text2ImageRegion(0, 640, 512, 1024, guidance_scale=8,\n",
    "            prompt= f\"\" + main_prompt),\n",
    "        Text2ImageRegion(384, 1024, 0, 512, guidance_scale=8,      # height first then width\n",
    "            prompt= f\"\" + main_prompt),\n",
    "        Text2ImageRegion(384, 1024, 256, 768, guidance_scale=8,\n",
    "            prompt=  f\"\" + main_prompt),\n",
    "        Text2ImageRegion(384, 1024, 512, 1024, guidance_scale=8,\n",
    "            prompt=  f\"\" + main_prompt),\n",
    "        Text2ImageRegion(768, 1408, 0, 512, guidance_scale=8,      # height first then width\n",
    "            prompt= f\"\" + main_prompt),\n",
    "        Text2ImageRegion(768, 1024, 256, 768, guidance_scale=8,\n",
    "            prompt=  f\"\" + main_prompt),\n",
    "        Text2ImageRegion(768, 1024, 512, 1024, guidance_scale=8,\n",
    "            prompt=  f\"\" + main_prompt),\n",
    "    ],\n",
    "    image=[image1, image2,image3,image4,image5,image6,image7,image8,image9],    num_inference_steps=50,\n",
    "    seed=7178915308,\n",
    ")[\"sample\"][0]\n"
   ]
  },
  {
   "cell_type": "code",
   "execution_count": null,
   "metadata": {},
   "outputs": [],
   "source": []
  },
  {
   "cell_type": "code",
   "execution_count": null,
   "metadata": {},
   "outputs": [],
   "source": []
  },
  {
   "cell_type": "code",
   "execution_count": 1,
   "metadata": {},
   "outputs": [
    {
     "name": "stderr",
     "output_type": "stream",
     "text": [
      "/home/qlianab/anaconda3/envs/diff/lib/python3.10/site-packages/tqdm/auto.py:22: TqdmWarning: IProgress not found. Please update jupyter and ipywidgets. See https://ipywidgets.readthedocs.io/en/stable/user_install.html\n",
      "  from .autonotebook import tqdm as notebook_tqdm\n",
      "Keyword arguments {'use_auth_token': True} are not expected by StableDiffusionXLCanvasPipeline and will be ignored.\n",
      "Loading pipeline components...:  14%|█▍        | 1/7 [00:00<00:05,  1.01it/s]\n"
     ]
    },
    {
     "ename": "OSError",
     "evalue": "Error no file named pytorch_model.bin, tf_model.h5, model.ckpt.index or flax_model.msgpack found in directory /home/qlianab/.cache/huggingface/hub/models--RunDiffusion--Juggernaut-XL-v9/snapshots/795a223a588ef39ef84ae41a7a819ab477a7623a/text_encoder.",
     "output_type": "error",
     "traceback": [
      "\u001b[0;31m---------------------------------------------------------------------------\u001b[0m",
      "\u001b[0;31mOSError\u001b[0m                                   Traceback (most recent call last)",
      "Cell \u001b[0;32mIn[1], line 6\u001b[0m\n\u001b[1;32m      4\u001b[0m \u001b[39m# Creater scheduler and model (similar to StableDiffusionPipeline)\u001b[39;00m\n\u001b[1;32m      5\u001b[0m scheduler \u001b[39m=\u001b[39m EulerAncestralDiscreteScheduler\u001b[39m.\u001b[39mfrom_pretrained(\u001b[39m\"\u001b[39m\u001b[39mRunDiffusion/Juggernaut-XL-v9\u001b[39m\u001b[39m\"\u001b[39m,subfolder\u001b[39m=\u001b[39m\u001b[39m\"\u001b[39m\u001b[39mscheduler\u001b[39m\u001b[39m\"\u001b[39m)\n\u001b[0;32m----> 6\u001b[0m pipeline \u001b[39m=\u001b[39m StableDiffusionXLCanvasPipeline\u001b[39m.\u001b[39;49mfrom_pretrained(\u001b[39m\"\u001b[39;49m\u001b[39mRunDiffusion/Juggernaut-XL-v9\u001b[39;49m\u001b[39m\"\u001b[39;49m, scheduler\u001b[39m=\u001b[39;49mscheduler, use_auth_token\u001b[39m=\u001b[39;49m\u001b[39mTrue\u001b[39;49;00m)\u001b[39m.\u001b[39mto(\u001b[39m\"\u001b[39m\u001b[39mcuda:9\u001b[39m\u001b[39m\"\u001b[39m)\n\u001b[1;32m      7\u001b[0m \u001b[39m# Mixture of Diffusers generation\u001b[39;00m\n",
      "File \u001b[0;32m~/anaconda3/envs/diff/lib/python3.10/site-packages/huggingface_hub/utils/_validators.py:118\u001b[0m, in \u001b[0;36mvalidate_hf_hub_args.<locals>._inner_fn\u001b[0;34m(*args, **kwargs)\u001b[0m\n\u001b[1;32m    115\u001b[0m \u001b[39mif\u001b[39;00m check_use_auth_token:\n\u001b[1;32m    116\u001b[0m     kwargs \u001b[39m=\u001b[39m smoothly_deprecate_use_auth_token(fn_name\u001b[39m=\u001b[39mfn\u001b[39m.\u001b[39m\u001b[39m__name__\u001b[39m, has_token\u001b[39m=\u001b[39mhas_token, kwargs\u001b[39m=\u001b[39mkwargs)\n\u001b[0;32m--> 118\u001b[0m \u001b[39mreturn\u001b[39;00m fn(\u001b[39m*\u001b[39;49margs, \u001b[39m*\u001b[39;49m\u001b[39m*\u001b[39;49mkwargs)\n",
      "File \u001b[0;32m~/anaconda3/envs/diff/lib/python3.10/site-packages/diffusers/pipelines/pipeline_utils.py:819\u001b[0m, in \u001b[0;36mDiffusionPipeline.from_pretrained\u001b[0;34m(cls, pretrained_model_name_or_path, **kwargs)\u001b[0m\n\u001b[1;32m    816\u001b[0m     loaded_sub_model \u001b[39m=\u001b[39m passed_class_obj[name]\n\u001b[1;32m    817\u001b[0m \u001b[39melse\u001b[39;00m:\n\u001b[1;32m    818\u001b[0m     \u001b[39m# load sub model\u001b[39;00m\n\u001b[0;32m--> 819\u001b[0m     loaded_sub_model \u001b[39m=\u001b[39m load_sub_model(\n\u001b[1;32m    820\u001b[0m         library_name\u001b[39m=\u001b[39;49mlibrary_name,\n\u001b[1;32m    821\u001b[0m         class_name\u001b[39m=\u001b[39;49mclass_name,\n\u001b[1;32m    822\u001b[0m         importable_classes\u001b[39m=\u001b[39;49mimportable_classes,\n\u001b[1;32m    823\u001b[0m         pipelines\u001b[39m=\u001b[39;49mpipelines,\n\u001b[1;32m    824\u001b[0m         is_pipeline_module\u001b[39m=\u001b[39;49mis_pipeline_module,\n\u001b[1;32m    825\u001b[0m         pipeline_class\u001b[39m=\u001b[39;49mpipeline_class,\n\u001b[1;32m    826\u001b[0m         torch_dtype\u001b[39m=\u001b[39;49mtorch_dtype,\n\u001b[1;32m    827\u001b[0m         provider\u001b[39m=\u001b[39;49mprovider,\n\u001b[1;32m    828\u001b[0m         sess_options\u001b[39m=\u001b[39;49msess_options,\n\u001b[1;32m    829\u001b[0m         device_map\u001b[39m=\u001b[39;49mdevice_map,\n\u001b[1;32m    830\u001b[0m         max_memory\u001b[39m=\u001b[39;49mmax_memory,\n\u001b[1;32m    831\u001b[0m         offload_folder\u001b[39m=\u001b[39;49moffload_folder,\n\u001b[1;32m    832\u001b[0m         offload_state_dict\u001b[39m=\u001b[39;49moffload_state_dict,\n\u001b[1;32m    833\u001b[0m         model_variants\u001b[39m=\u001b[39;49mmodel_variants,\n\u001b[1;32m    834\u001b[0m         name\u001b[39m=\u001b[39;49mname,\n\u001b[1;32m    835\u001b[0m         from_flax\u001b[39m=\u001b[39;49mfrom_flax,\n\u001b[1;32m    836\u001b[0m         variant\u001b[39m=\u001b[39;49mvariant,\n\u001b[1;32m    837\u001b[0m         low_cpu_mem_usage\u001b[39m=\u001b[39;49mlow_cpu_mem_usage,\n\u001b[1;32m    838\u001b[0m         cached_folder\u001b[39m=\u001b[39;49mcached_folder,\n\u001b[1;32m    839\u001b[0m     )\n\u001b[1;32m    840\u001b[0m     logger\u001b[39m.\u001b[39minfo(\n\u001b[1;32m    841\u001b[0m         \u001b[39mf\u001b[39m\u001b[39m\"\u001b[39m\u001b[39mLoaded \u001b[39m\u001b[39m{\u001b[39;00mname\u001b[39m}\u001b[39;00m\u001b[39m as \u001b[39m\u001b[39m{\u001b[39;00mclass_name\u001b[39m}\u001b[39;00m\u001b[39m from `\u001b[39m\u001b[39m{\u001b[39;00mname\u001b[39m}\u001b[39;00m\u001b[39m` subfolder of \u001b[39m\u001b[39m{\u001b[39;00mpretrained_model_name_or_path\u001b[39m}\u001b[39;00m\u001b[39m.\u001b[39m\u001b[39m\"\u001b[39m\n\u001b[1;32m    842\u001b[0m     )\n\u001b[1;32m    844\u001b[0m init_kwargs[name] \u001b[39m=\u001b[39m loaded_sub_model  \u001b[39m# UNet(...), # DiffusionSchedule(...)\u001b[39;00m\n",
      "File \u001b[0;32m~/anaconda3/envs/diff/lib/python3.10/site-packages/diffusers/pipelines/pipeline_loading_utils.py:473\u001b[0m, in \u001b[0;36mload_sub_model\u001b[0;34m(library_name, class_name, importable_classes, pipelines, is_pipeline_module, pipeline_class, torch_dtype, provider, sess_options, device_map, max_memory, offload_folder, offload_state_dict, model_variants, name, from_flax, variant, low_cpu_mem_usage, cached_folder)\u001b[0m\n\u001b[1;32m    471\u001b[0m \u001b[39m# check if the module is in a subdirectory\u001b[39;00m\n\u001b[1;32m    472\u001b[0m \u001b[39mif\u001b[39;00m os\u001b[39m.\u001b[39mpath\u001b[39m.\u001b[39misdir(os\u001b[39m.\u001b[39mpath\u001b[39m.\u001b[39mjoin(cached_folder, name)):\n\u001b[0;32m--> 473\u001b[0m     loaded_sub_model \u001b[39m=\u001b[39m load_method(os\u001b[39m.\u001b[39;49mpath\u001b[39m.\u001b[39;49mjoin(cached_folder, name), \u001b[39m*\u001b[39;49m\u001b[39m*\u001b[39;49mloading_kwargs)\n\u001b[1;32m    474\u001b[0m \u001b[39melse\u001b[39;00m:\n\u001b[1;32m    475\u001b[0m     \u001b[39m# else load from the root directory\u001b[39;00m\n\u001b[1;32m    476\u001b[0m     loaded_sub_model \u001b[39m=\u001b[39m load_method(cached_folder, \u001b[39m*\u001b[39m\u001b[39m*\u001b[39mloading_kwargs)\n",
      "File \u001b[0;32m~/anaconda3/envs/diff/lib/python3.10/site-packages/transformers/modeling_utils.py:2449\u001b[0m, in \u001b[0;36mPreTrainedModel.from_pretrained\u001b[0;34m(cls, pretrained_model_name_or_path, *model_args, **kwargs)\u001b[0m\n\u001b[1;32m   2443\u001b[0m         \u001b[39mraise\u001b[39;00m \u001b[39mEnvironmentError\u001b[39;00m(\n\u001b[1;32m   2444\u001b[0m             \u001b[39mf\u001b[39m\u001b[39m\"\u001b[39m\u001b[39mError no file named \u001b[39m\u001b[39m{\u001b[39;00m_add_variant(WEIGHTS_NAME,\u001b[39m \u001b[39mvariant)\u001b[39m}\u001b[39;00m\u001b[39m found in directory\u001b[39m\u001b[39m\"\u001b[39m\n\u001b[1;32m   2445\u001b[0m             \u001b[39mf\u001b[39m\u001b[39m\"\u001b[39m\u001b[39m \u001b[39m\u001b[39m{\u001b[39;00mpretrained_model_name_or_path\u001b[39m}\u001b[39;00m\u001b[39m but there is a file for Flax weights. Use `from_flax=True`\u001b[39m\u001b[39m\"\u001b[39m\n\u001b[1;32m   2446\u001b[0m             \u001b[39m\"\u001b[39m\u001b[39m to load this model from those weights.\u001b[39m\u001b[39m\"\u001b[39m\n\u001b[1;32m   2447\u001b[0m         )\n\u001b[1;32m   2448\u001b[0m     \u001b[39melse\u001b[39;00m:\n\u001b[0;32m-> 2449\u001b[0m         \u001b[39mraise\u001b[39;00m \u001b[39mEnvironmentError\u001b[39;00m(\n\u001b[1;32m   2450\u001b[0m             \u001b[39mf\u001b[39m\u001b[39m\"\u001b[39m\u001b[39mError no file named \u001b[39m\u001b[39m{\u001b[39;00m_add_variant(WEIGHTS_NAME,\u001b[39m \u001b[39mvariant)\u001b[39m}\u001b[39;00m\u001b[39m, \u001b[39m\u001b[39m{\u001b[39;00mTF2_WEIGHTS_NAME\u001b[39m}\u001b[39;00m\u001b[39m,\u001b[39m\u001b[39m\"\u001b[39m\n\u001b[1;32m   2451\u001b[0m             \u001b[39mf\u001b[39m\u001b[39m\"\u001b[39m\u001b[39m \u001b[39m\u001b[39m{\u001b[39;00mTF_WEIGHTS_NAME\u001b[39m \u001b[39m\u001b[39m+\u001b[39m\u001b[39m \u001b[39m\u001b[39m'\u001b[39m\u001b[39m.index\u001b[39m\u001b[39m'\u001b[39m\u001b[39m}\u001b[39;00m\u001b[39m or \u001b[39m\u001b[39m{\u001b[39;00mFLAX_WEIGHTS_NAME\u001b[39m}\u001b[39;00m\u001b[39m found in directory\u001b[39m\u001b[39m\"\u001b[39m\n\u001b[1;32m   2452\u001b[0m             \u001b[39mf\u001b[39m\u001b[39m\"\u001b[39m\u001b[39m \u001b[39m\u001b[39m{\u001b[39;00mpretrained_model_name_or_path\u001b[39m}\u001b[39;00m\u001b[39m.\u001b[39m\u001b[39m\"\u001b[39m\n\u001b[1;32m   2453\u001b[0m         )\n\u001b[1;32m   2454\u001b[0m \u001b[39melif\u001b[39;00m os\u001b[39m.\u001b[39mpath\u001b[39m.\u001b[39misfile(os\u001b[39m.\u001b[39mpath\u001b[39m.\u001b[39mjoin(subfolder, pretrained_model_name_or_path)):\n\u001b[1;32m   2455\u001b[0m     archive_file \u001b[39m=\u001b[39m pretrained_model_name_or_path\n",
      "\u001b[0;31mOSError\u001b[0m: Error no file named pytorch_model.bin, tf_model.h5, model.ckpt.index or flax_model.msgpack found in directory /home/qlianab/.cache/huggingface/hub/models--RunDiffusion--Juggernaut-XL-v9/snapshots/795a223a588ef39ef84ae41a7a819ab477a7623a/text_encoder."
     ]
    }
   ],
   "source": [
    "from diffusers import EulerAncestralDiscreteScheduler\n",
    "from mixdiff import StableDiffusionXLCanvasPipeline, Text2ImageRegion\n",
    "\n",
    "# Creater scheduler and model (similar to StableDiffusionPipeline)\n",
    "scheduler = EulerAncestralDiscreteScheduler.from_pretrained(\"stabilityai/stable-diffusion-xl-base-1.0\",subfolder=\"scheduler\")\n",
    "pipeline = StableDiffusionXLCanvasPipeline.from_pretrained(\"RunDiffusion/Juggernaut-XL-v9\", scheduler=scheduler, use_auth_token=True).to(\"cuda:9\")\n",
    "# Mixture of Diffusers generation\n"
   ]
  },
  {
   "cell_type": "code",
   "execution_count": 2,
   "metadata": {},
   "outputs": [
    {
     "name": "stderr",
     "output_type": "stream",
     "text": [
      "  0%|          | 0/20 [00:19<?, ?it/s]\n"
     ]
    }
   ],
   "source": [
    "image = pipeline(\n",
    "    canvas_height=640,\n",
    "    canvas_width=1408,\n",
    "    regions=[\n",
    "        Text2ImageRegion(0, 640, 0, 640, guidance_scale=8,\n",
    "            prompt=f\"Detailed, 8K, magical space battle: Ships firing lasers. highly detailed, smooth, sharp focus, artstation, stunning masterpiece\"),\n",
    "        Text2ImageRegion(0, 640, 384, 1024, guidance_scale=8,\n",
    "            prompt=f\"Epic, detailed, 8K space clash: Massive cruisers exchanging fire., by jakub rozalski, sunset lighting, elegant, highly detailed, smooth, sharp focus, artstation, stunning masterpiece\"),\n",
    "        Text2ImageRegion(0, 640, 768, 1408, guidance_scale=8,\n",
    "            prompt=f\"Dynamic, magical, 8K dogfights amidst stars: Fighters and capital ships, elegant, highly detailed, smooth, sharp focus, artstation, stunning masterpiece\"),\n",
    "    ],\n",
    "    num_inference_steps=20,\n",
    "    seed=7178915308,\n",
    ")[0][0]\n",
    "image.save('1.png')"
   ]
  },
  {
   "cell_type": "code",
   "execution_count": null,
   "metadata": {},
   "outputs": [],
   "source": []
  }
 ],
 "metadata": {
  "kernelspec": {
   "display_name": "test",
   "language": "python",
   "name": "python3"
  },
  "language_info": {
   "codemirror_mode": {
    "name": "ipython",
    "version": 3
   },
   "file_extension": ".py",
   "mimetype": "text/x-python",
   "name": "python",
   "nbconvert_exporter": "python",
   "pygments_lexer": "ipython3",
   "version": "3.10.0"
  },
  "orig_nbformat": 4
 },
 "nbformat": 4,
 "nbformat_minor": 2
}
